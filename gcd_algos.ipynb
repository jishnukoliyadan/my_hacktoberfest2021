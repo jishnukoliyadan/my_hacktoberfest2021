{
 "cells": [
  {
   "cell_type": "markdown",
   "id": "0f0e3b5b",
   "metadata": {},
   "source": [
    "# Greatest Common divisor (GCD)\n",
    "\n",
    "In mathematics, the greatest common divisor (GCD) of two or more integers, which are not all zero, is the largest positive integer that divides each of the integers. For two integers x, y, the greatest common divisor of x and y is denoted gcd ( x , y ) gcd(x,y) gcd(x,y).<br><br>\n",
    "For example, the GCD of **8** and **12** is **4** that is, **&emsp; gcd(8, 12) = 4**\n",
    "<br><br>\n",
    "Here we are going to look at different ways of calculating GCD using Python."
   ]
  },
  {
   "cell_type": "markdown",
   "id": "57190202",
   "metadata": {},
   "source": [
    "### Method : 01\n",
    "\n",
    "* Finding common factors of both 2 digits `factors_a` & `factors_b`\n",
    "* Finding common elecments from both `factors_a` & `factors_b` to list `common_factors`\n",
    "* Since **1** is a common factor, taking the last element from the list `common_factors`\n",
    "\n",
    "* **Time Complexity is extremely high**"
   ]
  },
  {
   "cell_type": "code",
   "execution_count": 12,
   "id": "45923765",
   "metadata": {},
   "outputs": [
    {
     "data": {
      "text/plain": [
       "8"
      ]
     },
     "execution_count": 12,
     "metadata": {},
     "output_type": "execute_result"
    }
   ],
   "source": [
    "def gcd(a,b):\n",
    "    \n",
    "    factors_a = []\n",
    "    for i in range(1, a+1):\n",
    "        if a%i == 0:\n",
    "            factors_a.append(i) #factors_a = [1, 2, 4, 8, 16]\n",
    "\n",
    "    factors_b = []\n",
    "    for j in range(1, b+1):\n",
    "        if b%j == 0:\n",
    "            factors_b.append(j) #factors_b = [1, 2, 4, 8, 11, 22, 44, 88]\n",
    "    \n",
    "    common_factors = []\n",
    "    for f in factors_a:\n",
    "        if f in factors_b:\n",
    "            common_factors.append(f) #common_factors = [1, 2, 4, 8]\n",
    "    \n",
    "    return (common_factors[-1]) # common_factors[-1] = 8\n",
    "\n",
    "gcd(16,88)"
   ]
  },
  {
   "cell_type": "markdown",
   "id": "07b16219",
   "metadata": {},
   "source": [
    "### Method : 02\n",
    "\n",
    "* Taking minimum value digit for computation\n",
    "* Creating `common_factors` for storing common factors"
   ]
  },
  {
   "cell_type": "code",
   "execution_count": 10,
   "id": "8bb1f3da",
   "metadata": {},
   "outputs": [
    {
     "data": {
      "text/plain": [
       "8"
      ]
     },
     "execution_count": 10,
     "metadata": {},
     "output_type": "execute_result"
    }
   ],
   "source": [
    "def gcd(a,b ):\n",
    "    \n",
    "    common_factors = []\n",
    "    \n",
    "    for i in range(1, min(a,b)+1):\n",
    "        \n",
    "        if (a%i == 0) and (b%i == 0):\n",
    "            common_factors.append(i)\n",
    "\n",
    "    return common_factors[-1]\n",
    "\n",
    "gcd(16,88)"
   ]
  },
  {
   "cell_type": "markdown",
   "id": "dba27fb4",
   "metadata": {},
   "source": [
    "### Method : 03\n",
    "\n",
    "* Taking minimum value digit for computation\n",
    "* We only need the largest common factor\n",
    "* Each time finds new largeest common factor, changes most recent common factor `mr_common_factors`"
   ]
  },
  {
   "cell_type": "code",
   "execution_count": 3,
   "id": "687c2827",
   "metadata": {},
   "outputs": [
    {
     "data": {
      "text/plain": [
       "7"
      ]
     },
     "execution_count": 3,
     "metadata": {},
     "output_type": "execute_result"
    }
   ],
   "source": [
    "def gcd(a,b):\n",
    "    \n",
    "    for i in range(1, min(a,b)+1):\n",
    "        if (a%i == 0) and (b%i == 0):\n",
    "            mr_common_factors = i\n",
    "            \n",
    "    return mr_common_factors\n",
    "\n",
    "gcd(16,88)"
   ]
  },
  {
   "cell_type": "markdown",
   "id": "78e5f499",
   "metadata": {},
   "source": [
    "### Method : 04\n",
    "\n",
    "* Calculating `GCD` in reverse order\n",
    "* Instead of `for loop` using `while loop`"
   ]
  },
  {
   "cell_type": "code",
   "execution_count": 4,
   "id": "d163087c",
   "metadata": {},
   "outputs": [
    {
     "data": {
      "text/plain": [
       "7"
      ]
     },
     "execution_count": 4,
     "metadata": {},
     "output_type": "execute_result"
    }
   ],
   "source": [
    "def gcd(a,b):\n",
    "    \n",
    "    i = min(a,b)\n",
    "    \n",
    "    while(i>0):\n",
    "        \n",
    "        if (a%i == 0) and (b%i == 0):\n",
    "            return i\n",
    "        else:\n",
    "            i -= 1\n",
    "            \n",
    "gcd(16,88)"
   ]
  },
  {
   "cell_type": "markdown",
   "id": "aa848fbf",
   "metadata": {},
   "source": [
    "### Method : 05\n",
    "\n",
    "* Assuming digit `a` is greater than digit `b`\n",
    "* Recursive algorithm"
   ]
  },
  {
   "cell_type": "code",
   "execution_count": 5,
   "id": "72363f1c",
   "metadata": {},
   "outputs": [
    {
     "data": {
      "text/plain": [
       "7"
      ]
     },
     "execution_count": 5,
     "metadata": {},
     "output_type": "execute_result"
    }
   ],
   "source": [
    "def gcd(a,b):\n",
    "    \n",
    "    if a < b:\n",
    "        (a,b) = (b,a)\n",
    "        \n",
    "    if (a % b == 0):\n",
    "        return b\n",
    "    else:\n",
    "        diff = a - b\n",
    "        \n",
    "    return (gcd(max(b,diff), min(b, diff)))\n",
    "\n",
    "gcd(16,88)   "
   ]
  },
  {
   "cell_type": "markdown",
   "id": "7985d016",
   "metadata": {},
   "source": [
    "### Method : 06\n",
    "\n",
    "* Assuming digit `a` is greater than digit `b`\n",
    "* Non-Recursive algorithm"
   ]
  },
  {
   "cell_type": "code",
   "execution_count": 6,
   "id": "9a45e171",
   "metadata": {},
   "outputs": [
    {
     "data": {
      "text/plain": [
       "7"
      ]
     },
     "execution_count": 6,
     "metadata": {},
     "output_type": "execute_result"
    }
   ],
   "source": [
    "def gdc(a,b):\n",
    "    \n",
    "    if a < b :\n",
    "        (a,b) = (b,a)\n",
    "    \n",
    "    while (a%b != 0):\n",
    "        \n",
    "        diff = a - b\n",
    "\n",
    "        (a,b) = (max(b, diff), min(b, diff))\n",
    "        \n",
    "    return (b)\n",
    "                  \n",
    "gcd(16,88)\n"
   ]
  },
  {
   "cell_type": "markdown",
   "id": "127c8b6e",
   "metadata": {},
   "source": [
    "### Method : 07\n",
    "\n",
    "* **Euclidean Algorithm** for GCD\n",
    "* Recursive algorithm\n",
    "* Assuming digit `a` is greater than digit `b`"
   ]
  },
  {
   "cell_type": "code",
   "execution_count": 7,
   "id": "40dbc5c5",
   "metadata": {},
   "outputs": [
    {
     "data": {
      "text/plain": [
       "7"
      ]
     },
     "execution_count": 7,
     "metadata": {},
     "output_type": "execute_result"
    }
   ],
   "source": [
    "def gcd(a,b):\n",
    "    \n",
    "    if a < b:\n",
    "        (a,b) = (b,a)\n",
    "        \n",
    "    if a%b == 0:\n",
    "        return b\n",
    "    else:\n",
    "        return gcd(b, a%b)\n",
    "\n",
    "gcd(16,88)"
   ]
  },
  {
   "cell_type": "markdown",
   "id": "8e140254",
   "metadata": {},
   "source": [
    "### Method : 08\n",
    "\n",
    "* **Euclidean Algorithm** for GCD\n",
    "* Using `While loop`\n",
    "* Non-Recursive algorithm\n",
    "* Assuming digit `a` is greater than digit `b`"
   ]
  },
  {
   "cell_type": "code",
   "execution_count": 8,
   "id": "ad68a6ba",
   "metadata": {},
   "outputs": [
    {
     "data": {
      "text/plain": [
       "7"
      ]
     },
     "execution_count": 8,
     "metadata": {},
     "output_type": "execute_result"
    }
   ],
   "source": [
    "def gcd(a,b):\n",
    "    \n",
    "    if a < b:\n",
    "        (a,b) = (b,a)\n",
    "    \n",
    "    while a%b != 0:\n",
    "        (a,b) = (b, a%b)\n",
    "    \n",
    "    return b\n",
    "\n",
    "gcd(16,88)"
   ]
  }
 ],
 "metadata": {
  "kernelspec": {
   "display_name": "Python 3",
   "language": "python",
   "name": "python3"
  },
  "language_info": {
   "codemirror_mode": {
    "name": "ipython",
    "version": 3
   },
   "file_extension": ".py",
   "mimetype": "text/x-python",
   "name": "python",
   "nbconvert_exporter": "python",
   "pygments_lexer": "ipython3",
   "version": "3.8.8"
  }
 },
 "nbformat": 4,
 "nbformat_minor": 5
}
